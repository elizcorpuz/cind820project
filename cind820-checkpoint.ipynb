{
 "cells": [
  {
   "cell_type": "code",
   "execution_count": 2,
   "metadata": {},
   "outputs": [],
   "source": [
    "import numpy as np\n",
    "import pandas as pd\n",
    "import matplotlib.pyplot as plt\n",
    "%matplotlib inline\n",
    "import seaborn as sns\n",
    "from sklearn.impute import SimpleImputer"
   ]
  },
  {
   "cell_type": "code",
   "execution_count": 5,
   "metadata": {},
   "outputs": [
    {
     "data": {
      "text/html": [
       "<div>\n",
       "<style scoped>\n",
       "    .dataframe tbody tr th:only-of-type {\n",
       "        vertical-align: middle;\n",
       "    }\n",
       "\n",
       "    .dataframe tbody tr th {\n",
       "        vertical-align: top;\n",
       "    }\n",
       "\n",
       "    .dataframe thead th {\n",
       "        text-align: right;\n",
       "    }\n",
       "</style>\n",
       "<table border=\"1\" class=\"dataframe\">\n",
       "  <thead>\n",
       "    <tr style=\"text-align: right;\">\n",
       "      <th></th>\n",
       "      <th>Index</th>\n",
       "      <th>Region</th>\n",
       "      <th>Source</th>\n",
       "      <th>Sector</th>\n",
       "      <th>Subsector</th>\n",
       "      <th>Is it a total</th>\n",
       "      <th>Year</th>\n",
       "      <th>TPM (t)</th>\n",
       "      <th>PM10 (t)</th>\n",
       "      <th>PM25 (t)</th>\n",
       "      <th>...</th>\n",
       "      <th>Pb (kg)</th>\n",
       "      <th>Cd (kg)</th>\n",
       "      <th>Hg (kg)</th>\n",
       "      <th>D/F (gTEQ)</th>\n",
       "      <th>B(a)p</th>\n",
       "      <th>B(b)f</th>\n",
       "      <th>B(k)f</th>\n",
       "      <th>I(1,2,3-cd)p</th>\n",
       "      <th>PAH (kg)</th>\n",
       "      <th>HCB (g)</th>\n",
       "    </tr>\n",
       "  </thead>\n",
       "  <tbody>\n",
       "    <tr>\n",
       "      <th>0</th>\n",
       "      <td>1.0</td>\n",
       "      <td>AB</td>\n",
       "      <td>Ore and Mineral Industries</td>\n",
       "      <td>NaN</td>\n",
       "      <td>NaN</td>\n",
       "      <td>y</td>\n",
       "      <td>1990.0</td>\n",
       "      <td>27838.262007</td>\n",
       "      <td>8171.573406</td>\n",
       "      <td>2874.894219</td>\n",
       "      <td>...</td>\n",
       "      <td>416.163534</td>\n",
       "      <td>5.772593</td>\n",
       "      <td>92.824010</td>\n",
       "      <td>0.002173</td>\n",
       "      <td>0.407351</td>\n",
       "      <td>1.425729</td>\n",
       "      <td>0.505794</td>\n",
       "      <td>0.407351</td>\n",
       "      <td>2.746226</td>\n",
       "      <td>NaN</td>\n",
       "    </tr>\n",
       "    <tr>\n",
       "      <th>1</th>\n",
       "      <td>1.0</td>\n",
       "      <td>BC</td>\n",
       "      <td>Ore and Mineral Industries</td>\n",
       "      <td>NaN</td>\n",
       "      <td>NaN</td>\n",
       "      <td>y</td>\n",
       "      <td>1990.0</td>\n",
       "      <td>24263.863642</td>\n",
       "      <td>11296.732082</td>\n",
       "      <td>6158.367847</td>\n",
       "      <td>...</td>\n",
       "      <td>57.772251</td>\n",
       "      <td>1.846344</td>\n",
       "      <td>3084.899405</td>\n",
       "      <td>0.000143</td>\n",
       "      <td>9.164659</td>\n",
       "      <td>12.693411</td>\n",
       "      <td>12.110903</td>\n",
       "      <td>5.062677</td>\n",
       "      <td>39.031650</td>\n",
       "      <td>NaN</td>\n",
       "    </tr>\n",
       "    <tr>\n",
       "      <th>2</th>\n",
       "      <td>1.0</td>\n",
       "      <td>Unspecified</td>\n",
       "      <td>Ore and Mineral Industries</td>\n",
       "      <td>NaN</td>\n",
       "      <td>NaN</td>\n",
       "      <td>y</td>\n",
       "      <td>1990.0</td>\n",
       "      <td>NaN</td>\n",
       "      <td>NaN</td>\n",
       "      <td>NaN</td>\n",
       "      <td>...</td>\n",
       "      <td>942553.747399</td>\n",
       "      <td>78483.801189</td>\n",
       "      <td>NaN</td>\n",
       "      <td>42.093600</td>\n",
       "      <td>26870.500000</td>\n",
       "      <td>25789.000000</td>\n",
       "      <td>16893.400000</td>\n",
       "      <td>10092.900000</td>\n",
       "      <td>79645.800000</td>\n",
       "      <td>5466.35</td>\n",
       "    </tr>\n",
       "    <tr>\n",
       "      <th>3</th>\n",
       "      <td>1.0</td>\n",
       "      <td>MB</td>\n",
       "      <td>Ore and Mineral Industries</td>\n",
       "      <td>NaN</td>\n",
       "      <td>NaN</td>\n",
       "      <td>y</td>\n",
       "      <td>1990.0</td>\n",
       "      <td>10781.344640</td>\n",
       "      <td>6530.918616</td>\n",
       "      <td>3287.360693</td>\n",
       "      <td>...</td>\n",
       "      <td>28.563421</td>\n",
       "      <td>0.525974</td>\n",
       "      <td>19959.679177</td>\n",
       "      <td>0.000143</td>\n",
       "      <td>0.037110</td>\n",
       "      <td>0.129885</td>\n",
       "      <td>0.046078</td>\n",
       "      <td>0.037110</td>\n",
       "      <td>0.250183</td>\n",
       "      <td>NaN</td>\n",
       "    </tr>\n",
       "    <tr>\n",
       "      <th>4</th>\n",
       "      <td>1.0</td>\n",
       "      <td>NB</td>\n",
       "      <td>Ore and Mineral Industries</td>\n",
       "      <td>NaN</td>\n",
       "      <td>NaN</td>\n",
       "      <td>y</td>\n",
       "      <td>1990.0</td>\n",
       "      <td>4856.683941</td>\n",
       "      <td>1529.098805</td>\n",
       "      <td>651.456258</td>\n",
       "      <td>...</td>\n",
       "      <td>18.294893</td>\n",
       "      <td>0.949639</td>\n",
       "      <td>121.556350</td>\n",
       "      <td>0.000066</td>\n",
       "      <td>0.099055</td>\n",
       "      <td>0.346693</td>\n",
       "      <td>0.122993</td>\n",
       "      <td>0.099055</td>\n",
       "      <td>0.667797</td>\n",
       "      <td>NaN</td>\n",
       "    </tr>\n",
       "  </tbody>\n",
       "</table>\n",
       "<p>5 rows × 25 columns</p>\n",
       "</div>"
      ],
      "text/plain": [
       "   Index       Region                      Source Sector Subsector  \\\n",
       "0    1.0           AB  Ore and Mineral Industries    NaN       NaN   \n",
       "1    1.0           BC  Ore and Mineral Industries    NaN       NaN   \n",
       "2    1.0  Unspecified  Ore and Mineral Industries    NaN       NaN   \n",
       "3    1.0           MB  Ore and Mineral Industries    NaN       NaN   \n",
       "4    1.0           NB  Ore and Mineral Industries    NaN       NaN   \n",
       "\n",
       "  Is it a total    Year       TPM (t)      PM10 (t)     PM25 (t)  ...  \\\n",
       "0             y  1990.0  27838.262007   8171.573406  2874.894219  ...   \n",
       "1             y  1990.0  24263.863642  11296.732082  6158.367847  ...   \n",
       "2             y  1990.0           NaN           NaN          NaN  ...   \n",
       "3             y  1990.0  10781.344640   6530.918616  3287.360693  ...   \n",
       "4             y  1990.0   4856.683941   1529.098805   651.456258  ...   \n",
       "\n",
       "         Pb (kg)       Cd (kg)       Hg (kg)  D/F (gTEQ)         B(a)p  \\\n",
       "0     416.163534      5.772593     92.824010    0.002173      0.407351   \n",
       "1      57.772251      1.846344   3084.899405    0.000143      9.164659   \n",
       "2  942553.747399  78483.801189           NaN   42.093600  26870.500000   \n",
       "3      28.563421      0.525974  19959.679177    0.000143      0.037110   \n",
       "4      18.294893      0.949639    121.556350    0.000066      0.099055   \n",
       "\n",
       "          B(b)f         B(k)f  I(1,2,3-cd)p      PAH (kg)  HCB (g)  \n",
       "0      1.425729      0.505794      0.407351      2.746226      NaN  \n",
       "1     12.693411     12.110903      5.062677     39.031650      NaN  \n",
       "2  25789.000000  16893.400000  10092.900000  79645.800000  5466.35  \n",
       "3      0.129885      0.046078      0.037110      0.250183      NaN  \n",
       "4      0.346693      0.122993      0.099055      0.667797      NaN  \n",
       "\n",
       "[5 rows x 25 columns]"
      ]
     },
     "execution_count": 5,
     "metadata": {},
     "output_type": "execute_result"
    }
   ],
   "source": [
    "df = pd.read_csv(r'C:\\Users\\Elizabeth\\Documents\\Data Analytics\\course\\TERM4\\EN_APEI-Can-Prov_Terr.csv', encoding = 'latin1')\n",
    "df.head()"
   ]
  },
  {
   "cell_type": "code",
   "execution_count": 6,
   "metadata": {},
   "outputs": [
    {
     "data": {
      "text/plain": [
       "Index(['Index', 'Region', 'Source', 'Sector', 'Subsector', 'Is it a total',\n",
       "       'Year', 'TPM (t)', 'PM10 (t)', 'PM25 (t)', 'SOX (t)', 'NOX (t)',\n",
       "       'VOC (t)', 'CO (t)', 'NH3 (t)', 'Pb (kg)', 'Cd (kg)', 'Hg (kg)',\n",
       "       'D/F (gTEQ)', 'B(a)p', 'B(b)f', 'B(k)f', 'I(1,2,3-cd)p', 'PAH (kg)',\n",
       "       'HCB (g)'],\n",
       "      dtype='object')"
      ]
     },
     "execution_count": 6,
     "metadata": {},
     "output_type": "execute_result"
    }
   ],
   "source": [
    "colnames = df.columns\n",
    "colnames"
   ]
  },
  {
   "cell_type": "code",
   "execution_count": 7,
   "metadata": {},
   "outputs": [],
   "source": [
    "df.rename(columns = {'Is it a total':'total', 'TPM (t)':'TPM', 'PM10 (t)':'PM10', 'PM25 (t)':'PM25', 'SOX (t)':'SOX',\n",
    "                    'NOX (t)':'NOX', 'VOC (t)':'VOC', 'CO (t)':'CO', 'NH3 (t)':'NH3', 'Pb (kg)':'Pb', 'Cd (kg)':'Cd',\n",
    "                    'Hg (kg)':'Hg','D/F (gTEQ)':'DF', 'B(a)p':'Bap', 'B(b)f':'Bbf', 'B(k)f':'Bkf', 'I(1,2,3-cd)p':'Ip', \n",
    "                     'PAH (kg)':'PAH', 'HCB (g)':'HCB'}, inplace = True)"
   ]
  },
  {
   "cell_type": "code",
   "execution_count": 8,
   "metadata": {},
   "outputs": [
    {
     "data": {
      "text/plain": [
       "Index        float64\n",
       "Region        object\n",
       "Source        object\n",
       "Sector        object\n",
       "Subsector     object\n",
       "total         object\n",
       "Year         float64\n",
       "TPM          float64\n",
       "PM10         float64\n",
       "PM25         float64\n",
       "SOX          float64\n",
       "NOX          float64\n",
       "VOC          float64\n",
       "CO           float64\n",
       "NH3          float64\n",
       "Pb           float64\n",
       "Cd           float64\n",
       "Hg           float64\n",
       "DF           float64\n",
       "Bap          float64\n",
       "Bbf          float64\n",
       "Bkf          float64\n",
       "Ip           float64\n",
       "PAH          float64\n",
       "HCB          float64\n",
       "dtype: object"
      ]
     },
     "execution_count": 8,
     "metadata": {},
     "output_type": "execute_result"
    }
   ],
   "source": [
    "df.dtypes"
   ]
  },
  {
   "cell_type": "code",
   "execution_count": 7,
   "metadata": {},
   "outputs": [
    {
     "data": {
      "text/plain": [
       "(66390, 25)"
      ]
     },
     "execution_count": 7,
     "metadata": {},
     "output_type": "execute_result"
    }
   ],
   "source": [
    "df.shape"
   ]
  },
  {
   "cell_type": "code",
   "execution_count": 9,
   "metadata": {},
   "outputs": [
    {
     "data": {
      "text/plain": [
       "Index          int32\n",
       "Region        object\n",
       "Source        object\n",
       "Sector        object\n",
       "Subsector     object\n",
       "total         object\n",
       "Year           int32\n",
       "TPM          float64\n",
       "PM10         float64\n",
       "PM25         float64\n",
       "SOX          float64\n",
       "NOX          float64\n",
       "VOC          float64\n",
       "CO           float64\n",
       "NH3          float64\n",
       "Pb           float64\n",
       "Cd           float64\n",
       "Hg           float64\n",
       "DF           float64\n",
       "Bap          float64\n",
       "Bbf          float64\n",
       "Bkf          float64\n",
       "Ip           float64\n",
       "PAH          float64\n",
       "HCB          float64\n",
       "dtype: object"
      ]
     },
     "execution_count": 9,
     "metadata": {},
     "output_type": "execute_result"
    }
   ],
   "source": [
    "#change type of Index and Year from float64 and object respectively to int32\n",
    "df['Index'] = df['Index'].astype('int')\n",
    "df['Year'] = df['Year'].astype('int')\n",
    "df.dtypes"
   ]
  },
  {
   "cell_type": "code",
   "execution_count": 10,
   "metadata": {},
   "outputs": [
    {
     "name": "stdout",
     "output_type": "stream",
     "text": [
      "<class 'pandas.core.frame.DataFrame'>\n",
      "RangeIndex: 66390 entries, 0 to 66389\n",
      "Data columns (total 25 columns):\n",
      " #   Column     Non-Null Count  Dtype  \n",
      "---  ------     --------------  -----  \n",
      " 0   Index      66390 non-null  int32  \n",
      " 1   Region     66390 non-null  object \n",
      " 2   Source     66390 non-null  object \n",
      " 3   Sector     61320 non-null  object \n",
      " 4   Subsector  54180 non-null  object \n",
      " 5   total      12210 non-null  object \n",
      " 6   Year       66390 non-null  int32  \n",
      " 7   TPM        34032 non-null  float64\n",
      " 8   PM10       33960 non-null  float64\n",
      " 9   PM25       34002 non-null  float64\n",
      " 10  SOX        24136 non-null  float64\n",
      " 11  NOX        25801 non-null  float64\n",
      " 12  VOC        30948 non-null  float64\n",
      " 13  CO         25757 non-null  float64\n",
      " 14  NH3        22634 non-null  float64\n",
      " 15  Pb         13164 non-null  float64\n",
      " 16  Cd         11829 non-null  float64\n",
      " 17  Hg         20301 non-null  float64\n",
      " 18  DF         14676 non-null  float64\n",
      " 19  Bap        14065 non-null  float64\n",
      " 20  Bbf        14004 non-null  float64\n",
      " 21  Bkf        13603 non-null  float64\n",
      " 22  Ip         13859 non-null  float64\n",
      " 23  PAH        13457 non-null  float64\n",
      " 24  HCB        7330 non-null   float64\n",
      "dtypes: float64(18), int32(2), object(5)\n",
      "memory usage: 12.2+ MB\n"
     ]
    }
   ],
   "source": [
    "df.info()"
   ]
  },
  {
   "cell_type": "code",
   "execution_count": 11,
   "metadata": {},
   "outputs": [
    {
     "name": "stdout",
     "output_type": "stream",
     "text": [
      "          Index      Year          TPM        PM10        PM25         SOX  \\\n",
      "count  66390.00  66390.00     34032.00    33960.00    34002.00    24136.00   \n",
      "mean      79.54   2004.50     84379.95    26902.43     5663.52    10932.16   \n",
      "std       45.63      8.66    833510.51   260958.74    51617.32    82698.84   \n",
      "min        1.00   1990.00         0.00        0.00        0.00        0.00   \n",
      "25%       40.00   1997.00        10.40        7.26        4.35        1.48   \n",
      "50%       80.00   2004.50       149.95      101.47       60.49       45.89   \n",
      "75%      119.00   2012.00      1606.78      951.23      519.88      811.31   \n",
      "max      158.00   2019.00  28912967.21  8880675.05  1690838.10  3004321.65   \n",
      "\n",
      "              NOX         VOC           CO        NH3          Pb        Cd  \\\n",
      "count    25801.00    30948.00     25757.00   22634.00    13164.00  11829.00   \n",
      "mean     10775.76     9748.23     39647.74    2677.07     4968.40    406.64   \n",
      "std      85643.38    84028.98    331672.54   20532.46    43118.38   3740.88   \n",
      "min          0.00        0.00         0.00       0.00        0.00      0.00   \n",
      "25%         27.18       14.12        32.37       0.71        1.00      0.12   \n",
      "50%        250.77      191.99       437.68       8.43       21.65      2.58   \n",
      "75%       2351.78     1518.43      3806.23      91.87      179.66     20.98   \n",
      "max    2758843.76  2943101.77  11547434.59  503518.00  1213345.09  88110.17   \n",
      "\n",
      "             Hg        DF       Bap       Bbf       Bkf        Ip        PAH  \\\n",
      "count  20301.00  14676.00  14065.00  14004.00  13603.00  13859.00   13457.00   \n",
      "mean      74.12      1.55    394.34    541.92    275.86    286.23    1548.90   \n",
      "std      768.11     10.73   2845.63   3944.19   2237.29   1891.63   10932.08   \n",
      "min        0.00      0.00      0.00      0.00      0.00      0.00       0.00   \n",
      "25%        0.00      0.00      0.01      0.01      0.01      0.01       0.06   \n",
      "50%        0.97      0.01      0.40      0.38      0.22      0.24       1.56   \n",
      "75%       13.33      0.22     14.24     12.24      5.37      9.71      44.73   \n",
      "max    34269.09    435.39  82272.29  94218.20  65631.58  52994.34  293973.15   \n",
      "\n",
      "            HCB  \n",
      "count   7330.00  \n",
      "mean     745.03  \n",
      "std     4029.46  \n",
      "min        0.00  \n",
      "25%        0.00  \n",
      "50%        2.34  \n",
      "75%      221.46  \n",
      "max    98181.97  \n"
     ]
    }
   ],
   "source": [
    "df1 = df.describe()\n",
    "print(round(df1, 2))"
   ]
  },
  {
   "cell_type": "code",
   "execution_count": null,
   "metadata": {},
   "outputs": [],
   "source": []
  },
  {
   "cell_type": "code",
   "execution_count": null,
   "metadata": {},
   "outputs": [],
   "source": []
  },
  {
   "cell_type": "code",
   "execution_count": null,
   "metadata": {},
   "outputs": [],
   "source": []
  },
  {
   "cell_type": "code",
   "execution_count": null,
   "metadata": {},
   "outputs": [],
   "source": []
  }
 ],
 "metadata": {
  "kernelspec": {
   "display_name": "Python 3",
   "language": "python",
   "name": "python3"
  },
  "language_info": {
   "codemirror_mode": {
    "name": "ipython",
    "version": 3
   },
   "file_extension": ".py",
   "mimetype": "text/x-python",
   "name": "python",
   "nbconvert_exporter": "python",
   "pygments_lexer": "ipython3",
   "version": "3.8.8"
  }
 },
 "nbformat": 4,
 "nbformat_minor": 4
}
